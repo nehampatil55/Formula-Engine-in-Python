{
 "cells": [
  {
   "cell_type": "markdown",
   "id": "b10aa8fe",
   "metadata": {},
   "source": [
    "# Formula Engine"
   ]
  },
  {
   "cell_type": "code",
   "execution_count": 2,
   "id": "bd1164bf",
   "metadata": {},
   "outputs": [
    {
     "name": "stdout",
     "output_type": "stream",
     "text": [
      " pls enter the formula x+y\n",
      " pls enter the value1 12\n",
      " pls enter the value2  41\n",
      "x+y\n",
      "val x 12 val y 41\n",
      "53\n"
     ]
    }
   ],
   "source": [
    "# 2 variable Formula engine\n",
    "\n",
    "import parser\n",
    "from math import sin\n",
    "formula2=input(\" pls enter the formula \")\n",
    "\n",
    "code2=parser.expr(formula2).compile()\n",
    "x=int(input(\" pls enter the value1 \"))\n",
    "y=int(input(\" pls enter the value2  \"))\n",
    "print(formula2)\n",
    "print(\"val x\",x,\"val y\",y)\n",
    "print(eval(code2))"
   ]
  },
  {
   "cell_type": "code",
   "execution_count": 2,
   "id": "b0affaa4",
   "metadata": {},
   "outputs": [
    {
     "name": "stdout",
     "output_type": "stream",
     "text": [
      " pls enter the formula x*y*z\n",
      " pls enter the value1 4\n",
      " pls enter the value2  5\n",
      "pls enter the value3  3\n",
      "x*y*z\n",
      "val x 4 val y 5 val z 3\n",
      "60\n"
     ]
    }
   ],
   "source": [
    "# 3 variable Formula engine\n",
    "\n",
    "import parser\n",
    "from math import sin\n",
    "formula2=input(\" pls enter the formula \")\n",
    "\n",
    "code2=parser.expr(formula2).compile()\n",
    "x=int(input(\" pls enter the value1 \"))\n",
    "y=int(input(\" pls enter the value2  \"))\n",
    "z=int(input(\"pls enter the value3  \"))\n",
    "print(formula2)\n",
    "print(\"val x\",x,\"val y\",y,\"val z\",z)\n",
    "print(eval(code2))\n"
   ]
  },
  {
   "cell_type": "code",
   "execution_count": 7,
   "id": "f917b1d0",
   "metadata": {},
   "outputs": [
    {
     "data": {
      "text/plain": [
       "10"
      ]
     },
     "execution_count": 7,
     "metadata": {},
     "output_type": "execute_result"
    }
   ],
   "source": [
    "#Reference problem having parser, expr and compile, eval\n",
    "\n",
    "import parser\n",
    "st = parser.expr('a + 5')\n",
    "code = st.compile()\n",
    "a = 5\n",
    "eval(code)"
   ]
  },
  {
   "cell_type": "code",
   "execution_count": null,
   "id": "b7153c6d",
   "metadata": {},
   "outputs": [],
   "source": []
  }
 ],
 "metadata": {
  "kernelspec": {
   "display_name": "Python 3 (ipykernel)",
   "language": "python",
   "name": "python3"
  },
  "language_info": {
   "codemirror_mode": {
    "name": "ipython",
    "version": 3
   },
   "file_extension": ".py",
   "mimetype": "text/x-python",
   "name": "python",
   "nbconvert_exporter": "python",
   "pygments_lexer": "ipython3",
   "version": "3.8.12"
  }
 },
 "nbformat": 4,
 "nbformat_minor": 5
}
